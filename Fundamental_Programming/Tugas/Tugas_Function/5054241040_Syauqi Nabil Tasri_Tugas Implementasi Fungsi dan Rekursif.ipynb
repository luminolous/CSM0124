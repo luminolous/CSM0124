{
 "cells": [
  {
   "cell_type": "markdown",
   "metadata": {},
   "source": [
    "# **Implementasi String**"
   ]
  },
  {
   "cell_type": "markdown",
   "metadata": {},
   "source": [
    "#### **Creating a function**"
   ]
  },
  {
   "cell_type": "code",
   "execution_count": 1,
   "metadata": {},
   "outputs": [],
   "source": [
    "def function():\n",
    "    print(\"Hello there, nice to meet you!\")"
   ]
  },
  {
   "cell_type": "markdown",
   "metadata": {},
   "source": [
    "#### **Calling a function**"
   ]
  },
  {
   "cell_type": "code",
   "execution_count": 2,
   "metadata": {},
   "outputs": [
    {
     "name": "stdout",
     "output_type": "stream",
     "text": [
      "Hello there, nice to meet you!\n"
     ]
    }
   ],
   "source": [
    "function()"
   ]
  },
  {
   "cell_type": "markdown",
   "metadata": {},
   "source": [
    "#### **Arguments**"
   ]
  },
  {
   "cell_type": "code",
   "execution_count": 14,
   "metadata": {},
   "outputs": [
    {
     "name": "stdout",
     "output_type": "stream",
     "text": [
      "Hello John, nice to meet you!\n",
      "Hello Alpha, nice to meet you!\n",
      "Hello Joseph, nice to meet you!\n"
     ]
    }
   ],
   "source": [
    "def name_function(name):\n",
    "    print(\"Hello \" + name + \", nice to meet you!\")\n",
    "\n",
    "name_function(\"John\")\n",
    "name_function(\"Alpha\")\n",
    "name_function(\"Joseph\")"
   ]
  },
  {
   "cell_type": "markdown",
   "metadata": {},
   "source": [
    "**Number of arguments**"
   ]
  },
  {
   "cell_type": "code",
   "execution_count": 15,
   "metadata": {},
   "outputs": [
    {
     "name": "stdout",
     "output_type": "stream",
     "text": [
      "Hello John and Alpha, nice to meet you!\n"
     ]
    }
   ],
   "source": [
    "def name(name, nema):\n",
    "    print(\"Hello \" + name + \" and \" + nema + \", nice to meet you!\")\n",
    "name(\"John\", \"Alpha\")"
   ]
  },
  {
   "cell_type": "markdown",
   "metadata": {},
   "source": [
    "**Arbitrary Arguments**"
   ]
  },
  {
   "cell_type": "code",
   "execution_count": 18,
   "metadata": {},
   "outputs": [
    {
     "name": "stdout",
     "output_type": "stream",
     "text": [
      "Nice to meet you, Alpha\n"
     ]
    }
   ],
   "source": [
    "def function(*name):\n",
    "    print(\"Nice to meet you,\", name[1])\n",
    "function(\"John\", \"Alpha\", \"Joseph\")"
   ]
  },
  {
   "cell_type": "markdown",
   "metadata": {},
   "source": [
    "**Keywords Arguments**"
   ]
  },
  {
   "cell_type": "code",
   "execution_count": 21,
   "metadata": {},
   "outputs": [
    {
     "name": "stdout",
     "output_type": "stream",
     "text": [
      "The oldest child is John\n"
     ]
    }
   ],
   "source": [
    "def name(first, mid, last):\n",
    "    print(\"The oldest child is\", first)\n",
    "name(last=\"Joseph\", mid=\"Alpha\", first=\"John\")"
   ]
  },
  {
   "cell_type": "markdown",
   "metadata": {},
   "source": [
    "**Arbitrary Keyword Arguments**"
   ]
  },
  {
   "cell_type": "code",
   "execution_count": 22,
   "metadata": {},
   "outputs": [
    {
     "name": "stdout",
     "output_type": "stream",
     "text": [
      "His oldest child is John\n"
     ]
    }
   ],
   "source": [
    "def function(**name):\n",
    "    print(\"His oldest child is\", name[\"first\"])\n",
    "\n",
    "function(first=\"John\", mid=\"Alpha\", last=\"Joseph\")"
   ]
  },
  {
   "cell_type": "markdown",
   "metadata": {},
   "source": [
    "**Default Parameter Value**"
   ]
  },
  {
   "cell_type": "code",
   "execution_count": 23,
   "metadata": {},
   "outputs": [
    {
     "name": "stdout",
     "output_type": "stream",
     "text": [
      "I'm from London\n",
      "I'm from Berlin\n",
      "I'm from St. Petersburg\n"
     ]
    }
   ],
   "source": [
    "def profile(city = \"London\"):\n",
    "    print(\"I'm from\", city)\n",
    "profile()\n",
    "profile(\"Berlin\")\n",
    "profile(\"St. Petersburg\")"
   ]
  },
  {
   "cell_type": "markdown",
   "metadata": {},
   "source": [
    "**Passing a List as an Argument**"
   ]
  },
  {
   "cell_type": "code",
   "execution_count": 24,
   "metadata": {},
   "outputs": [
    {
     "name": "stdout",
     "output_type": "stream",
     "text": [
      "Pizza\n",
      "Burger\n",
      "Fries\n"
     ]
    }
   ],
   "source": [
    "def food(food):\n",
    "    for i in food:\n",
    "        print(i)\n",
    "food(food = [\"Pizza\", \"Burger\", \"Fries\"])"
   ]
  },
  {
   "cell_type": "markdown",
   "metadata": {},
   "source": [
    "**Return Values**"
   ]
  },
  {
   "cell_type": "code",
   "execution_count": 25,
   "metadata": {},
   "outputs": [
    {
     "name": "stdout",
     "output_type": "stream",
     "text": [
      "15\n",
      "18\n",
      "63\n"
     ]
    }
   ],
   "source": [
    "def multiple(a, b):\n",
    "    return a * b\n",
    "print(multiple(5, 3))\n",
    "print(multiple(3, 6))\n",
    "print(multiple(7, 9))"
   ]
  },
  {
   "cell_type": "markdown",
   "metadata": {},
   "source": [
    "**The pass statement**"
   ]
  },
  {
   "cell_type": "code",
   "execution_count": 26,
   "metadata": {},
   "outputs": [],
   "source": [
    "def function():\n",
    "    pass"
   ]
  },
  {
   "cell_type": "markdown",
   "metadata": {},
   "source": [
    "**Positional-Only Arguments**"
   ]
  },
  {
   "cell_type": "code",
   "execution_count": 36,
   "metadata": {},
   "outputs": [
    {
     "name": "stdout",
     "output_type": "stream",
     "text": [
      "1 2 3\n",
      "1 2 3\n"
     ]
    }
   ],
   "source": [
    "# with /\n",
    "def function(a, /, b, c):\n",
    "    print(a, b, c)\n",
    "function(1, 2, 3)\n",
    "\n",
    "# without /\n",
    "def function(a, b, c):\n",
    "    print(a, b, c)\n",
    "function(a = 1,b = 2,c = 3)\n",
    "\n",
    "# but if, it will error\n",
    "def function(a, b, /, c):\n",
    "    print(a, b, c)\n",
    "function(a = 1,b = 2,c = 3)"
   ]
  },
  {
   "cell_type": "markdown",
   "metadata": {},
   "source": [
    "**Keyword-Only Arguments**"
   ]
  },
  {
   "cell_type": "code",
   "execution_count": null,
   "metadata": {},
   "outputs": [],
   "source": [
    "# with *\n",
    "def function(a, *, b, c):\n",
    "    print(a, b, c)\n",
    "function(a = 1,b = 2,c = 3)\n",
    "\n",
    "# without *\n",
    "def function(a, b, c):\n",
    "    print(a, b, c)\n",
    "function(1,2,3)\n",
    "\n",
    "# but if, it will error\n",
    "def function(a, b, *, c):\n",
    "    print(a, b, c)\n",
    "function(1,2,3)"
   ]
  },
  {
   "cell_type": "markdown",
   "metadata": {},
   "source": [
    "**Combine Positional-Only and Keyword-Only**"
   ]
  },
  {
   "cell_type": "code",
   "execution_count": 46,
   "metadata": {},
   "outputs": [
    {
     "name": "stdout",
     "output_type": "stream",
     "text": [
      "1 4 5 8\n"
     ]
    }
   ],
   "source": [
    "def function(a, /, b, *, c, d):\n",
    "    print(a, b, c, d)\n",
    "function(1, 4, c = 5, d = 8)"
   ]
  },
  {
   "cell_type": "markdown",
   "metadata": {},
   "source": [
    "**Recursion**"
   ]
  },
  {
   "cell_type": "code",
   "execution_count": 53,
   "metadata": {},
   "outputs": [
    {
     "data": {
      "text/plain": [
       "120"
      ]
     },
     "execution_count": 53,
     "metadata": {},
     "output_type": "execute_result"
    }
   ],
   "source": [
    "def faktorial(k):\n",
    "  if(k > 0):\n",
    "    result = k * faktorial(k - 1)\n",
    "  else:\n",
    "    result = 1\n",
    "  return result\n",
    "\n",
    "faktorial(5)"
   ]
  }
 ],
 "metadata": {
  "kernelspec": {
   "display_name": "Python 3",
   "language": "python",
   "name": "python3"
  },
  "language_info": {
   "codemirror_mode": {
    "name": "ipython",
    "version": 3
   },
   "file_extension": ".py",
   "mimetype": "text/x-python",
   "name": "python",
   "nbconvert_exporter": "python",
   "pygments_lexer": "ipython3",
   "version": "3.13.0"
  }
 },
 "nbformat": 4,
 "nbformat_minor": 2
}
