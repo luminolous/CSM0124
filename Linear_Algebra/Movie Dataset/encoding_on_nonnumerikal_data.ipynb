{
 "cells": [
  {
   "cell_type": "code",
   "execution_count": null,
   "metadata": {},
   "outputs": [
    {
     "name": "stdout",
     "output_type": "stream",
     "text": [
      "[2 1 0]\n"
     ]
    }
   ],
   "source": [
    "from sklearn.preprocessing import LabelEncoder\n",
    "\n",
    "harga = ['Murah', 'Medium', 'Mahal']\n",
    "\n",
    "encoder = LabelEncoder()\n",
    "encoded_gender = encoder.fit_transform(harga)\n",
    "\n",
    "print(encoded_gender)\n"
   ]
  },
  {
   "cell_type": "code",
   "execution_count": 15,
   "metadata": {},
   "outputs": [
    {
     "name": "stdout",
     "output_type": "stream",
     "text": [
      "[[0. 0. 1. 0. 0.]\n",
      " [0. 1. 0. 0. 0.]\n",
      " [0. 0. 0. 0. 1.]\n",
      " [0. 0. 0. 1. 0.]\n",
      " [1. 0. 0. 0. 0.]]\n"
     ]
    }
   ],
   "source": [
    "from sklearn.preprocessing import OneHotEncoder\n",
    "import numpy as np\n",
    "\n",
    "genre = np.array(['Horror natural', 'Horror', 'Thriller', 'Mystery', 'Comedy']).reshape(-1, 1)\n",
    "\n",
    "encoder = OneHotEncoder()\n",
    "encoded_status = encoder.fit_transform(genre).toarray()\n",
    "\n",
    "print(encoded_status)\n"
   ]
  },
  {
   "cell_type": "code",
   "execution_count": null,
   "metadata": {},
   "outputs": [
    {
     "name": "stdout",
     "output_type": "stream",
     "text": [
      "[[0.53404633 0.         0.53404633 0.53404633 0.         0.37997836\n",
      "  0.        ]\n",
      " [0.         0.53404633 0.         0.         0.53404633 0.37997836\n",
      "  0.53404633]]\n"
     ]
    }
   ],
   "source": [
    "from sklearn.feature_extraction.text import TfidfVectorizer\n",
    "\n",
    "texts = [\"Ini adalah contoh teks\", \"Teks lainnya untuk analisis\"]\n",
    "\n",
    "vectorizer = TfidfVectorizer()\n",
    "encoded_texts = vectorizer.fit_transform(texts)\n",
    "\n",
    "print(encoded_texts.toarray())\n"
   ]
  },
  {
   "cell_type": "code",
   "execution_count": null,
   "metadata": {},
   "outputs": [
    {
     "name": "stdout",
     "output_type": "stream",
     "text": [
      "Fitur (kata unik):\n",
      "['belajar' 'data' 'itu' 'juga' 'learning' 'machine' 'menyenangkan' 'saya'\n",
      " 'science' 'suka']\n",
      "\n",
      "Matriks Bag of Words:\n",
      "[[1 0 0 0 1 1 0 1 0 1]\n",
      " [1 0 1 0 1 1 1 0 0 0]\n",
      " [1 1 0 1 0 0 0 1 1 1]]\n"
     ]
    }
   ],
   "source": [
    "from sklearn.feature_extraction.text import CountVectorizer\n",
    "\n",
    "texts = [\n",
    "    \"Saya suka belajar machine learning\",\n",
    "    \"Belajar machine learning itu menyenangkan\",\n",
    "    \"Saya juga suka belajar data science\"\n",
    "]\n",
    "\n",
    "vectorizer = CountVectorizer()\n",
    "\n",
    "X = vectorizer.fit_transform(texts)\n",
    "\n",
    "print(\"Fitur (kata unik):\")\n",
    "print(vectorizer.get_feature_names_out())\n",
    "\n",
    "print(\"\\nMatriks Bag of Words:\")\n",
    "print(X.toarray())\n"
   ]
  },
  {
   "cell_type": "code",
   "execution_count": null,
   "metadata": {},
   "outputs": [],
   "source": []
  }
 ],
 "metadata": {
  "kernelspec": {
   "display_name": ".venv",
   "language": "python",
   "name": "python3"
  },
  "language_info": {
   "codemirror_mode": {
    "name": "ipython",
    "version": 3
   },
   "file_extension": ".py",
   "mimetype": "text/x-python",
   "name": "python",
   "nbconvert_exporter": "python",
   "pygments_lexer": "ipython3",
   "version": "3.12.4"
  }
 },
 "nbformat": 4,
 "nbformat_minor": 2
}
